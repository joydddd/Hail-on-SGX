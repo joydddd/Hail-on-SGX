{
 "metadata": {
  "language_info": {
   "codemirror_mode": {
    "name": "ipython",
    "version": 3
   },
   "file_extension": ".py",
   "mimetype": "text/x-python",
   "name": "python",
   "nbconvert_exporter": "python",
   "pygments_lexer": "ipython3",
   "version": "3.8.5"
  },
  "orig_nbformat": 2,
  "kernelspec": {
   "name": "python3",
   "display_name": "Python 3",
   "language": "python"
  }
 },
 "nbformat": 4,
 "nbformat_minor": 2,
 "cells": [
  {
   "cell_type": "code",
   "execution_count": 1,
   "metadata": {},
   "outputs": [],
   "source": [
    "import numpy\n",
    "from numpy.linalg import inv\n",
    "import csv\n",
    "covariant_num = 1\n",
    "XTX_files = [\"XTX_withoutcovariant_1.tsv\", \"XTX_withoutcovariant_2.tsv\"]\n",
    "XTY_files = [\"XTY_withoutcovariant_1.tsv\", \"XTY_withoutcovariant_2.tsv\"]\n"
   ]
  },
  {
   "cell_type": "code",
   "execution_count": 2,
   "metadata": {},
   "outputs": [],
   "source": [
    "\n",
    "class Linear_regression:\n",
    "    XTX = {}\n",
    "    XTY = {}\n",
    "    beta = {}\n",
    "    \n",
    "    def __init__(self, XTX_files, XTY_files):\n",
    "        for f in XTX_files:\n",
    "            self.read_XTX(f)\n",
    "        for f in XTY_files:\n",
    "            self.read_XTY(f)\n",
    "\n",
    "    def read_XTX(self, filename):\n",
    "        tsv_file = open(filename)\n",
    "        read_tsv = csv.reader(tsv_file, delimiter=\"\\t\")\n",
    "        for row in read_tsv:\n",
    "            if row[0] == \"locus\":\n",
    "                continue\n",
    "            for i in range(2, len(row)-1):\n",
    "                row[i] = int(row[i])\n",
    "            XTX_entry = [[ 0 for i in range(covariant_num+1)] for j in range(covariant_num+1)]\n",
    "            ii = 0\n",
    "            for i in range(covariant_num+1):\n",
    "                for j in range(i, covariant_num+1):\n",
    "                    XTX_entry[i][j] = row[ii+2]\n",
    "                    ii += 1\n",
    "            for i in range(covariant_num+1):\n",
    "                for j in range(i):\n",
    "                    XTX_entry[i][j] = XTX_entry[j][i]\n",
    "            npmatrix = numpy.array(XTX_entry)\n",
    "            if row[0] in self.XTX:\n",
    "                self.XTX[row[0]] = self.XTX[row[0]] + npmatrix\n",
    "            else:\n",
    "                self.XTX[row[0]] = npmatrix\n",
    "\n",
    "    def read_XTY(self, filename):\n",
    "        tsv_file = open(filename)\n",
    "        read_tsv = csv.reader(tsv_file, delimiter=\"\\t\")\n",
    "        for row in read_tsv:\n",
    "            if row[0] == \"locus\":\n",
    "                continue\n",
    "            for i in range(2, len(row)-1):\n",
    "                row[i] = int(row[i])\n",
    "            if row[0] in self.XTY:\n",
    "                self.XTY[row[0]] = self.XTY[row[0]] + numpy.array(row[2:len(row)-1])\n",
    "            else:\n",
    "                self.XTY[row[0]] = numpy.array(row[2:len(row)-1])\n",
    "\n",
    "    def export_beta(self):\n",
    "        with open('beta.out', 'w') as f:\n",
    "            sys.stdout = f\n",
    "            for locu in self.XTX:\n",
    "                try:\n",
    "                    self.beta[locu] = inv(self.XTX[locu]).dot(self.XTY[locu])\n",
    "                except numpy.linalg.LinAlgError as err:\n",
    "                    if ('Singular matrix' in str(err)):\n",
    "                        self.beta[locu] = 'NaN'\n",
    "                    else:\n",
    "                        raise\n",
    "                print(locu, self.beta[locu])\n",
    "        \n"
   ]
  },
  {
   "cell_type": "code",
   "execution_count": 3,
   "metadata": {
    "tags": []
   },
   "outputs": [],
   "source": [
    "gwas = Linear_regression(XTX_files, XTY_files)\n",
    "gwas.export_beta()\n"
   ]
  },
  {
   "cell_type": "code",
   "execution_count": null,
   "metadata": {},
   "outputs": [],
   "source": []
  }
 ]
}